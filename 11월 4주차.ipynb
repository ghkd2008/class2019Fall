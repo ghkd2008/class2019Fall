{
 "cells": [
  {
   "cell_type": "markdown",
   "metadata": {},
   "source": [
    "벡터는 한줄로 길게 되어 있는 것.\n",
    "\n",
    "인공지능은 데이터를 또 다른 데이터로 바꿈.\n",
    "벡터값을 새로운 벡터값으로\n",
    "\n",
    "음성 -> 텍스트 :음성인식\n",
    "text -> 음성 :음성합성\n",
    "\n",
    "데이터 -> 기계=인공지능=함수 -> 데이터\n",
    "\n",
    "#선형대수에 대해 배워보자!\n",
    "\n",
    "행렬의 곱셈. \n",
    "\n",
    "a행 b열 * b행 c열 => a행 c열\n",
    "\n",
    "인공지능은 결국 행렬의 곱.\n",
    "벡터를 또 다른 벡터값으로 바꿔짐.\n",
    "따라서 모든 데이터는 벡터값이어야 함. 그래야 인공지능, 기계, 함수가 다룰 수 있기 때문\n",
    "\n",
    "선형대수(Linear algebra)\n",
    "\n",
    "m행 n열 = m by n 행렬\n",
    "\n",
    "벡터는 1 by n 행렬 \n",
    "\n",
    "혹은 \n",
    "\n",
    "m by 1행렬(세로로 한줄짜리 벡터) = 칼럼 벡터\n",
    "\n",
    "vector space: 1차원, 2차원, 3차원의 모든 공간\n",
    "                R1    R2      R3    ....   Rn\n",
    "즉, n차원의 공간은 n개의 벡터값으로 채워져 있음.\n",
    "\n",
    "lineart combination: 무언가에 무엇을 곱하고, 무언가에 무언가를 곱해서 그 둘을 더하는 것.\n",
    "그러한 짓을 무한대로 하면 그 공간이 꽉 차게 됨.(이 과정이 spanning) 이 공간이 바로 칼럼 스페이스\n",
    "\n",
    "-> 칼럼스페이스는 칼럼 벡터보다 차원이 높을 수 없다!!!!!!!\n",
    "scalar: 단순한 숫자\n",
    "\n",
    "\n",
    "좌표 즉, 컬럼1과 컬럼2가 원점으로부터의 선위에 동시에 있지 않으면 independent함\n",
    "(2,1)\n",
    "(-1,-0.5)\n",
    "\n",
    "얘넨 depentdent함. 즉, 원점과 두 좌표가 삼각형을 만들지 못함. 결국 칼럼스페이스는 2차원이 아닌 1차원의 선.\n",
    "\n",
    "whole space의 차원 수는 원점부터 좌표까지의 줄 갯수\n",
    "column space는 indepent한 좌표들의 줄 갯수\n",
    "\n",
    "3차원에서 점 두개면 2차원\n",
    "2차원에서 점 세 개면 여전히 2차원\n",
    "\n",
    "m * n 행렬은 m차원과 n차원 두개의 whole space가 있음.\n",
    "\n",
    "2 * 3 행렬이면 즉, 2차원에 점 3개, 3차원에 점 2개 두가지를 그릴 수 있음. columm의 관점과 row의 관점.\n",
    "\n",
    "null space: 예를 들어 3차원 공간에서 1차원, 혹은 2차원 밖에 못그린다면 나머지 공간이 null space.\n",
    "즉, 칼럼스페이스를 정의하고 남은 나머지 공간. \n",
    "\n",
    "\n",
    "Ax=b A는 행렬. x는 입력 벡터. b는 출력 벡터.\n",
    "x와 b의 길이가 반드시 같을 필요는 없음.\n",
    "\n",
    "dependent한 벡터를 통해 움직이면 다시 돌아올 수 없음. 즉, 역함수가 없음.\n",
    "면적이 determinent값. 삼각형이 안그려지면 면적이 없으니까 determinent값이 없음.\n",
    "\n",
    "\n",
    "\n",
    "\n"
   ]
  },
  {
   "cell_type": "markdown",
   "metadata": {},
   "source": []
  },
  {
   "cell_type": "markdown",
   "metadata": {},
   "source": [
    "n차원에서는 independent한 벡터값이 n개임. 즉, 2차원에 3개의 점을 찍어도 inependent한 것은 2개일 뿐. 나머지 하나는 두개의 linear combination을 통해 만들어질 수 있음. "
   ]
  },
  {
   "cell_type": "code",
   "execution_count": null,
   "metadata": {},
   "outputs": [],
   "source": []
  }
 ],
 "metadata": {
  "kernelspec": {
   "display_name": "Python 3",
   "language": "python",
   "name": "python3"
  },
  "language_info": {
   "codemirror_mode": {
    "name": "ipython",
    "version": 3
   },
   "file_extension": ".py",
   "mimetype": "text/x-python",
   "name": "python",
   "nbconvert_exporter": "python",
   "pygments_lexer": "ipython3",
   "version": "3.7.3"
  }
 },
 "nbformat": 4,
 "nbformat_minor": 2
}
