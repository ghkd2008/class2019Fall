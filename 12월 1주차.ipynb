{
 "cells": [
  {
   "cell_type": "code",
   "execution_count": 1,
   "metadata": {},
   "outputs": [
    {
     "ename": "NameError",
     "evalue": "name 's' is not defined",
     "output_type": "error",
     "traceback": [
      "\u001b[1;31m---------------------------------------------------------------------------\u001b[0m",
      "\u001b[1;31mNameError\u001b[0m                                 Traceback (most recent call last)",
      "\u001b[1;32m<ipython-input-1-b1db578bd50f>\u001b[0m in \u001b[0;36m<module>\u001b[1;34m\u001b[0m\n\u001b[0;32m      1\u001b[0m \u001b[1;32mfrom\u001b[0m \u001b[0mscipy\u001b[0m\u001b[1;33m.\u001b[0m\u001b[0mio\u001b[0m \u001b[1;32mimport\u001b[0m \u001b[0mwavfile\u001b[0m\u001b[1;33m\u001b[0m\u001b[1;33m\u001b[0m\u001b[0m\n\u001b[0;32m      2\u001b[0m \u001b[1;31m# sr, s = wavfile.read('a.wav')\u001b[0m\u001b[1;33m\u001b[0m\u001b[1;33m\u001b[0m\u001b[1;33m\u001b[0m\u001b[0m\n\u001b[1;32m----> 3\u001b[1;33m \u001b[0mnSamp\u001b[0m \u001b[1;33m=\u001b[0m \u001b[0mlen\u001b[0m\u001b[1;33m(\u001b[0m\u001b[0ms\u001b[0m\u001b[1;33m)\u001b[0m \u001b[1;31m#formant가 있는 s(sample)의 벡터값의 갯수찾기\u001b[0m\u001b[1;33m\u001b[0m\u001b[1;33m\u001b[0m\u001b[0m\n\u001b[0m\u001b[0;32m      4\u001b[0m \u001b[1;31m#s가 바로 target wave. 즉, 분석하고자하는 데이터.\u001b[0m\u001b[1;33m\u001b[0m\u001b[1;33m\u001b[0m\u001b[1;33m\u001b[0m\u001b[0m\n\u001b[0;32m      5\u001b[0m \u001b[0mdur\u001b[0m \u001b[1;33m=\u001b[0m \u001b[0mnSamp\u001b[0m \u001b[1;33m/\u001b[0m \u001b[0msr\u001b[0m\u001b[1;33m\u001b[0m\u001b[1;33m\u001b[0m\u001b[0m\n",
      "\u001b[1;31mNameError\u001b[0m: name 's' is not defined"
     ]
    }
   ],
   "source": [
    "from scipy.io import wavfile\n",
    "# sr, s = wavfile.read('a.wav')\n",
    "nSamp = len(s) #formant가 있는 s(sample)의 벡터값의 갯수찾기\n",
    "#s가 바로 target wave. 즉, 분석하고자하는 데이터.\n",
    "dur = nSamp / sr\n",
    "t = np.linspace(1/sr, dur, nSamp)"
   ]
  },
  {
   "cell_type": "code",
   "execution_count": 2,
   "metadata": {},
   "outputs": [
    {
     "ename": "NameError",
     "evalue": "name 'nSamp' is not defined",
     "output_type": "error",
     "traceback": [
      "\u001b[1;31m---------------------------------------------------------------------------\u001b[0m",
      "\u001b[1;31mNameError\u001b[0m                                 Traceback (most recent call last)",
      "\u001b[1;32m<ipython-input-2-0ca98db73187>\u001b[0m in \u001b[0;36m<module>\u001b[1;34m\u001b[0m\n\u001b[1;32m----> 1\u001b[1;33m \u001b[0mnFFT\u001b[0m \u001b[1;33m=\u001b[0m \u001b[0mnSamp\u001b[0m\u001b[1;33m\u001b[0m\u001b[1;33m\u001b[0m\u001b[0m\n\u001b[0m\u001b[0;32m      2\u001b[0m \u001b[0mamp\u001b[0m \u001b[1;33m=\u001b[0m \u001b[1;33m[\u001b[0m\u001b[1;33m]\u001b[0m\u001b[1;33m;\u001b[0m\u001b[1;33m\u001b[0m\u001b[1;33m\u001b[0m\u001b[0m\n\u001b[0;32m      3\u001b[0m \u001b[1;32mfor\u001b[0m \u001b[0mn\u001b[0m \u001b[1;32min\u001b[0m \u001b[0mrange\u001b[0m\u001b[1;33m(\u001b[0m\u001b[1;36m0\u001b[0m\u001b[1;33m,\u001b[0m\u001b[0mnFFT\u001b[0m\u001b[1;33m)\u001b[0m\u001b[1;33m:\u001b[0m   \u001b[1;31m#즉, s의 벡터값을 loop 돌리기.\u001b[0m\u001b[1;33m\u001b[0m\u001b[1;33m\u001b[0m\u001b[0m\n\u001b[0;32m      4\u001b[0m     \u001b[0momega\u001b[0m \u001b[1;33m=\u001b[0m \u001b[1;36m2\u001b[0m\u001b[1;33m*\u001b[0m\u001b[0mnp\u001b[0m\u001b[1;33m.\u001b[0m\u001b[0mpi\u001b[0m\u001b[1;33m*\u001b[0m\u001b[0mn\u001b[0m\u001b[1;33m/\u001b[0m\u001b[0mnFFT\u001b[0m \u001b[1;31m# angular velocity\u001b[0m\u001b[1;33m\u001b[0m\u001b[1;33m\u001b[0m\u001b[0m\n\u001b[0;32m      5\u001b[0m \u001b[1;31m#    오메가= 2파이*0/100 (n을 100이라고 가정)\u001b[0m\u001b[1;33m\u001b[0m\u001b[1;33m\u001b[0m\u001b[1;33m\u001b[0m\u001b[0m\n",
      "\u001b[1;31mNameError\u001b[0m: name 'nSamp' is not defined"
     ]
    }
   ],
   "source": [
    "nFFT = nSamp\n",
    "amp = [];\n",
    "for n in range(0,nFFT):   #즉, s의 벡터값을 loop 돌리기.\n",
    "    omega = 2*np.pi*n/nFFT # angular velocity\n",
    "#    오메가= 2파이*0/100 (n을 100이라고 가정)\n",
    "#첫루프는 0\n",
    "    z = np.exp(omega*1j)**(np.arange(0,nSamp))  #complex phasor를 이용함.\n",
    "#           (e^w*i*[0,1,2,...100] \n",
    "#            0부터 2파이 한 바퀴를 도는 동안 100개의 샘플로 이뤄져 있움.\n",
    "#                        두 바퀴, 세 바퀴, ...,\n",
    "    amp.append(np.abs(np.dot(s,z)))\n",
    "   #              abs는 절대값 변환.\n",
    "len(amp)"
   ]
  },
  {
   "cell_type": "markdown",
   "metadata": {},
   "source": [
    "타겟 시그널이 s. \n",
    "for loop 돌려서 z를 여러개 만들어서 모두 s에다가 inner product.\n",
    "for loop안에서 dot product하므로\n",
    "for loop이 끝나고나면 \n",
    "amp에는 허수가 없음. abs해버렸기 때문에.\n",
    "len(amp)는? n(?)\n"
   ]
  },
  {
   "cell_type": "code",
   "execution_count": null,
   "metadata": {},
   "outputs": [],
   "source": [
    "\n",
    "fig = plt.figure()\n",
    "ax = fig.add_subplot(111)\n",
    "freq = np.arange(1,nFFT+1)*sr/nFFT;\n",
    "ax.plot(freq, amp)\n",
    "ax.set_xlabel('frequency (Hz)')\n",
    "ax.set_ylabel('amplitude')\n",
    "#그래프의 개수는 s의 개수\n",
    "#그래프가 서로 대칭됨. 5000이상이 의미가 없음.\n",
    "#이 반쪽이 스펙트럼. innerproduct의 절댓값들이 그래프를 그림.\n",
    "#즉, 높은 그래프만큼 그 헤르츠가 많이 있다는 것임. "
   ]
  },
  {
   "cell_type": "code",
   "execution_count": null,
   "metadata": {},
   "outputs": [],
   "source": []
  },
  {
   "cell_type": "markdown",
   "metadata": {},
   "source": [
    "#12월 5일\n",
    "코사인 그래프는 알아둬. cos세타가 0이되면 orthognal한 상황. 예를들어 90도 일 때. 즉, dot product가 0이 나오는 상황.\n",
    "cos세타 = r.\n",
    "\n",
    "r=1일 때, \n",
    "1. 2차원 그래프에서 모든 벡터값들이 일직선상에 놓임. \n",
    "정비례하면 1에 가까워지고, 반비례하면 -1에 가까워지고.\n",
    "\n",
    "2. n차원의 그래프에서 영어벡터와 국어벡터의 각도가 90도가 된다. cos90은 0이니까. \n",
    "혹은 반비례하여 r=-1일 때, 여전히 영어와 국어벡터는 각도가 180도가 된다.cos180= -1이니까.\n",
    "\n",
    "#스펙트로그램\n"
   ]
  },
  {
   "cell_type": "code",
   "execution_count": null,
   "metadata": {},
   "outputs": [],
   "source": [
    "#processing signal"
   ]
  },
  {
   "cell_type": "code",
   "execution_count": null,
   "metadata": {},
   "outputs": [],
   "source": [
    "max_freq = None  # cutoff freq\n",
    "win_size = 0.008 # sec 긴 웨이브에서 앞부분만 잘라서 스펙트럼 만들고, 뒤로 조금 이동해서 또 만들고 계속 반복. 즉, 한장씩 스펙트로그램 만드는게 \n",
    "win_step = 0.001  # sec\n",
    "win_type = 'hanning' # options: 'rect', 'hamming', 'hanning', 'kaiser', 'blackman'\n",
    "nfft = 1024\n",
    "\n",
    "# Emphasize signal\n",
    "s = preemphasis(s)\n",
    "# Frame signal\n",
    "frames = frame_signal(s, sr, win_size, win_step)\n",
    "# Apply window function\n",
    "frames *= get_window(win_size, sr, win_type)\n",
    "print('frames:', frames.shape)"
   ]
  },
  {
   "cell_type": "code",
   "execution_count": 1,
   "metadata": {},
   "outputs": [
    {
     "ename": "NameError",
     "evalue": "name 'nfft' is not defined",
     "output_type": "error",
     "traceback": [
      "\u001b[1;31m---------------------------------------------------------------------------\u001b[0m",
      "\u001b[1;31mNameError\u001b[0m                                 Traceback (most recent call last)",
      "\u001b[1;32m<ipython-input-1-83c874bf1562>\u001b[0m in \u001b[0;36m<module>\u001b[1;34m\u001b[0m\n\u001b[1;32m----> 1\u001b[1;33m \u001b[0mpowspec\u001b[0m \u001b[1;33m=\u001b[0m \u001b[1;36m1\u001b[0m\u001b[1;33m/\u001b[0m\u001b[0mnfft\u001b[0m \u001b[1;33m*\u001b[0m \u001b[1;33m(\u001b[0m\u001b[0mmagspec\u001b[0m\u001b[1;33m**\u001b[0m\u001b[1;36m2\u001b[0m\u001b[1;33m)\u001b[0m  \u001b[1;31m#제곱을하여 1보다큰거더크게, 1보다 작은것은 더 작게.\u001b[0m\u001b[1;33m\u001b[0m\u001b[1;33m\u001b[0m\u001b[0m\n\u001b[0m\u001b[0;32m      2\u001b[0m \u001b[0mplot_spectrogram\u001b[0m\u001b[1;33m(\u001b[0m\u001b[0mpowspec\u001b[0m\u001b[1;33m)\u001b[0m\u001b[1;33m;\u001b[0m\u001b[1;33m\u001b[0m\u001b[1;33m\u001b[0m\u001b[0m\n",
      "\u001b[1;31mNameError\u001b[0m: name 'nfft' is not defined"
     ]
    }
   ],
   "source": [
    "powspec = 1/nfft * (magspec**2)  #제곱을하여 1보다큰거더크게, 1보다 작은것은 더 작게. \n",
    "plot_spectrogram(powspec);   \n"
   ]
  },
  {
   "cell_type": "code",
   "execution_count": null,
   "metadata": {},
   "outputs": [],
   "source": [
    "logspec = 10 * np.log10(magspec) # dB scale이후에 로그를 사용하면 0.00001같은 건 -4가 출력됨. 즉, 다룰만한 숫자로 변함. 너무커지거나 너무 작은 숫자가아닌 숫자로 만들어주는 과정.\n",
    "plot_spectrogram(logspec);"
   ]
  },
  {
   "cell_type": "code",
   "execution_count": null,
   "metadata": {},
   "outputs": [],
   "source": []
  },
  {
   "cell_type": "code",
   "execution_count": null,
   "metadata": {},
   "outputs": [],
   "source": []
  }
 ],
 "metadata": {
  "kernelspec": {
   "display_name": "Python 3",
   "language": "python",
   "name": "python3"
  },
  "language_info": {
   "codemirror_mode": {
    "name": "ipython",
    "version": 3
   },
   "file_extension": ".py",
   "mimetype": "text/x-python",
   "name": "python",
   "nbconvert_exporter": "python",
   "pygments_lexer": "ipython3",
   "version": "3.7.3"
  }
 },
 "nbformat": 4,
 "nbformat_minor": 2
}
