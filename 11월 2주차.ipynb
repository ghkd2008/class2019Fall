{
 "cells": [
  {
   "cell_type": "markdown",
   "metadata": {},
   "source": [
    "'''\n",
    "sound data에 대해 알아보자\n",
    "sinusoidal - 사인함수처럼 그려지는 것\n",
    "phasor - sinusoidal을 만들어냄.\n",
    "\n",
    "0도에서 360도가          <-degree\n",
    "0~ 2파이에 대응됨        <-radian\n",
    "\n",
    "파이=180도\n",
    "\n",
    "sin() 괄호안에는  라디안 값이 들어가야 함!!!! 중요!!!\n",
    "\n",
    "f(theta) = e^theta*i  = a+bi\n",
    "e는 자연상수, i는 허수(-1에 루트씌운것)\n",
    "즉, theta가 변하면 아웃값도 변함\n",
    "\n",
    "theta = 0, 파이/2, 파이, 파이*3/2, 파이*2\n",
    "f(파이/2) = 코사인=0, 사인은 1\n",
    "f(파이)   = 코사인은 -1, 사인은 0\n",
    "\n",
    "f(theta) = a+bi라고 할 때 theta값을 0, 파이/2, 파이, 파이*3/2,\n",
    "복소평면 (cimplex plain)에 표시하면 \n",
    "a값을 x축, b값을 y축에 집어넣고 찍으면 동그랗게 그려짐 (1,0),(0,-1),(-1,0),(0,1)에 찍힘\n",
    "즉, 벡터값으로 모두 표현됨\n",
    "오일러 공식 참고\n",
    "'''"
   ]
  },
  {
   "cell_type": "markdown",
   "metadata": {},
   "source": [
    "sin wave에는 시간개념이 없음. 소리는 그안에 시간의 개념이 있어야 함."
   ]
  },
  {
   "cell_type": "code",
   "execution_count": 70,
   "metadata": {},
   "outputs": [],
   "source": [
    "#phasor\n",
    "\n",
    "from matplotlib import pyplot as plt     #    = import matplotlib.pyplot as plt\n",
    "from mpl_toolkits.mplot3d import Axes3D\n",
    "from mpl_toolkits.axes_grid1 import make_axes_locatable\n",
    "import IPython.display as ipd\n",
    "import numpy as np                     #numpy libarary를 import한 것\n",
    "%matplotlib notebook\n",
    "from scipy.signal import lfilter"
   ]
  },
  {
   "cell_type": "code",
   "execution_count": 4,
   "metadata": {},
   "outputs": [],
   "source": [
    "# parameter setting\n",
    "amp = 1          # range [0.0, 1.0]\n",
    "sr = 10000       # sampling rate, Hz   음질의 해상도를 의미. 1초를 10000개로 나눔\n",
    "dur = 0.5        # in seconds\n",
    "freq = 500.0     # sine frequency, Hz 100hz 남자목소리 같은"
   ]
  },
  {
   "cell_type": "markdown",
   "metadata": {},
   "source": [
    "'''\n",
    "t = 0.0001 0.0002 0.0003~ 이런식이면 10000개 들어감\n",
    "0.5000 만드는 것이 목표\n",
    "'''"
   ]
  },
  {
   "cell_type": "code",
   "execution_count": 5,
   "metadata": {},
   "outputs": [
    {
     "data": {
      "text/plain": [
       "array([1.000e-04, 2.000e-04, 3.000e-04, ..., 4.998e-01, 4.999e-01,\n",
       "       5.000e-01])"
      ]
     },
     "execution_count": 5,
     "metadata": {},
     "output_type": "execute_result"
    }
   ],
   "source": [
    "#따라서\n",
    "t = np.arange(1,sr*dur+1)/sr\n",
    "t #만분의 일초부터 만분의 오천초까지 만듦."
   ]
  },
  {
   "cell_type": "code",
   "execution_count": 6,
   "metadata": {},
   "outputs": [],
   "source": [
    "#1*1/10^4"
   ]
  },
  {
   "cell_type": "code",
   "execution_count": 7,
   "metadata": {},
   "outputs": [],
   "source": [
    "# generate phase\n",
    "theta = t * 2*np.pi * freq\n",
    "    #시간*2파이*프리퀀시  => 초당 몇바퀴를도는지 frequncy를 곱해줌"
   ]
  },
  {
   "cell_type": "code",
   "execution_count": 8,
   "metadata": {},
   "outputs": [
    {
     "data": {
      "text/plain": [
       "array([ 6.27905195e-02,  1.25333234e-01,  1.87381315e-01, ...,\n",
       "       -1.25333234e-01, -6.27905195e-02,  1.96438672e-15])"
      ]
     },
     "execution_count": 8,
     "metadata": {},
     "output_type": "execute_result"
    }
   ],
   "source": [
    "# generate signal by cosine-phasor\n",
    "s= np.sin(theta)\n",
    "s"
   ]
  },
  {
   "cell_type": "code",
   "execution_count": 9,
   "metadata": {},
   "outputs": [
    {
     "data": {
      "text/plain": [
       "Text(0, 0.5, 'real')"
      ]
     },
     "execution_count": 9,
     "metadata": {},
     "output_type": "execute_result"
    },
    {
     "data": {
      "image/png": "[encoded data removed]",
      "text/plain": [
       "<Figure size 432x288 with 1 Axes>"
      ]
     },
     "metadata": {
      "needs_background": "light"
     },
     "output_type": "display_data"
    }
   ],
   "source": [
    "fig = plt.figure()\n",
    "ax = fig.add_subplot(111)\n",
    "ax.plot(t[0:1000], s[0:1000], '.')\n",
    "ax.set_xlabel('time (s)')\n",
    "ax.set_ylabel('real')"
   ]
  },
  {
   "cell_type": "code",
   "execution_count": 10,
   "metadata": {},
   "outputs": [],
   "source": [
    "#11월 7일"
   ]
  },
  {
   "cell_type": "code",
   "execution_count": 30,
   "metadata": {},
   "outputs": [],
   "source": [
    "#각도만들기\n",
    "theta = np.arange(0,2*np.pi,0.1)   #0부터 2파이까지의 각도를 만듦.  파이값이 증가하면 그래프가 그려지는 횟수도 증가. 2파이당 한바퀴"
   ]
  },
  {
   "cell_type": "code",
   "execution_count": 31,
   "metadata": {},
   "outputs": [
    {
     "data": {
      "text/plain": [
       "array([0. , 0.1, 0.2, 0.3, 0.4, 0.5, 0.6, 0.7, 0.8, 0.9, 1. , 1.1, 1.2,\n",
       "       1.3, 1.4, 1.5, 1.6, 1.7, 1.8, 1.9, 2. , 2.1, 2.2, 2.3, 2.4, 2.5,\n",
       "       2.6, 2.7, 2.8, 2.9, 3. , 3.1, 3.2, 3.3, 3.4, 3.5, 3.6, 3.7, 3.8,\n",
       "       3.9, 4. , 4.1, 4.2, 4.3, 4.4, 4.5, 4.6, 4.7, 4.8, 4.9, 5. , 5.1,\n",
       "       5.2, 5.3, 5.4, 5.5, 5.6, 5.7, 5.8, 5.9, 6. , 6.1, 6.2])"
      ]
     },
     "execution_count": 31,
     "metadata": {},
     "output_type": "execute_result"
    }
   ],
   "source": [
    "theta       #0부터 약 6.28까지 1씩 증가히므로"
   ]
  },
  {
   "cell_type": "code",
   "execution_count": 53,
   "metadata": {},
   "outputs": [
    {
     "data": {
      "text/plain": [
       "array([ 6.27905195e-02,  1.25333234e-01,  1.87381315e-01, ...,\n",
       "       -1.25333234e-01, -6.27905195e-02,  1.96438672e-15])"
      ]
     },
     "execution_count": 53,
     "metadata": {},
     "output_type": "execute_result"
    }
   ],
   "source": [
    "s = np.sin(theta)          #numpy에 들어있는 사임함수를 사용한 것. 사인함수에는 라디안 값을 0부터 6까지 총 7개 넣어주었음.\n",
    "s                       #theta값의 변화에 따른 사인함수 결과값"
   ]
  },
  {
   "cell_type": "code",
   "execution_count": 54,
   "metadata": {},
   "outputs": [
    {
     "data": {
      "text/plain": [
       "[<matplotlib.lines.Line2D at 0x264504a5470>]"
      ]
     },
     "execution_count": 54,
     "metadata": {},
     "output_type": "execute_result"
    },
    {
     "data": {
      "image/png": "[encoded data removed]",
      "text/plain": [
       "<Figure size 432x288 with 4 Axes>"
      ]
     },
     "metadata": {
      "needs_background": "light"
     },
     "output_type": "display_data"
    }
   ],
   "source": [
    "#plot하기\n",
    "fig = plt.figure()\n",
    "ax = fig.add_subplot(221)   #2*2로 화면 분리 후 첫 번째\n",
    "ax.plot(theta, s, '+')      # +로 점찍기\n",
    "ax = fig.add_subplot(222)   #2*2로 화면 분리 후 두 번째\n",
    "ax.plot(theta, s, '.')       #.으로 점찍기\n",
    "ax = fig.add_subplot(223)   #2*2로 화면 분리 후 세 번째\n",
    "ax.plot(theta, s, '*')       #*로 점찍기\n",
    "ax = fig.add_subplot(224)   #2*2로 화면 분리 후 네 번째\n",
    "ax.plot(theta, s, '-')       #라인으로 연결하기\n",
    "\n",
    "\n",
    "#축 0,1,2,3,4,5,6까지 값이 찍혀있음\n"
   ]
  },
  {
   "cell_type": "code",
   "execution_count": 55,
   "metadata": {},
   "outputs": [
    {
     "data": {
      "text/plain": [
       "Text(0, 0.5, 'value')"
      ]
     },
     "execution_count": 55,
     "metadata": {},
     "output_type": "execute_result"
    },
    {
     "data": {
      "image/png": "[encoded data removed]",
      "text/plain": [
       "<Figure size 432x288 with 1 Axes>"
      ]
     },
     "metadata": {
      "needs_background": "light"
     },
     "output_type": "display_data"
    }
   ],
   "source": [
    "fig = plt.figure()\n",
    "ax = fig.add_subplot(111) \n",
    "ax.plot(theta, s,'.')           #디폴트값은 라인임 '-'\n",
    "ax.set_xlabel('theta in radians')\n",
    "ax.set_ylabel('value')"
   ]
  },
  {
   "cell_type": "code",
   "execution_count": 56,
   "metadata": {},
   "outputs": [],
   "source": [
    "#x축의 증가량과 y축의 증가량이 비례하다면 linear함. 즉, 그래프가 직선으로 그려잠 (y=ax+b 형태의 그래프)\n",
    "#나머지는 모두 non linear"
   ]
  },
  {
   "cell_type": "code",
   "execution_count": 57,
   "metadata": {},
   "outputs": [],
   "source": [
    "#시간만들기\n",
    "amp = 1          # range [0.0, 1.0]\n",
    "sr = 10000       # sampling rate, Hz   음질의 해상도를 의미. 1초를 10000개로 나눔\n",
    "dur = 0.5        # in seconds\n",
    "freq = 100.0     # sine frequency, Hz 100hz 남자목소리 같은"
   ]
  },
  {
   "cell_type": "code",
   "execution_count": 58,
   "metadata": {},
   "outputs": [],
   "source": [
    "#시간만들기\n",
    "t= np.arange(1,sr*dur+1)/sr \n",
    "               #1초를 샘플링레이트*소리길이, +1을 한 이유는 마지막꺼가 제외되기 때문."
   ]
  },
  {
   "cell_type": "code",
   "execution_count": 59,
   "metadata": {},
   "outputs": [
    {
     "data": {
      "text/plain": [
       "array([1.000e-04, 2.000e-04, 3.000e-04, ..., 4.998e-01, 4.999e-01,\n",
       "       5.000e-01])"
      ]
     },
     "execution_count": 59,
     "metadata": {},
     "output_type": "execute_result"
    }
   ],
   "source": [
    "t"
   ]
  },
  {
   "cell_type": "code",
   "execution_count": 60,
   "metadata": {},
   "outputs": [],
   "source": [
    "#시간과 theta 합치기\n",
    "#theta = t*2*np.pi   <-1초동안 한바퀴 돌기\n",
    "theta = t * 2*np.pi * freq     #       <-frquency까지 더해주기 (?)"
   ]
  },
  {
   "cell_type": "code",
   "execution_count": 61,
   "metadata": {},
   "outputs": [
    {
     "data": {
      "text/plain": [
       "array([6.28318531e-02, 1.25663706e-01, 1.88495559e-01, ...,\n",
       "       3.14033602e+02, 3.14096434e+02, 3.14159265e+02])"
      ]
     },
     "execution_count": 61,
     "metadata": {},
     "output_type": "execute_result"
    }
   ],
   "source": [
    "theta"
   ]
  },
  {
   "cell_type": "code",
   "execution_count": 62,
   "metadata": {},
   "outputs": [
    {
     "data": {
      "text/plain": [
       "Text(0, 0.5, 'real')"
      ]
     },
     "execution_count": 62,
     "metadata": {},
     "output_type": "execute_result"
    },
    {
     "data": {
      "image/png": "[encoded data removed]",
      "text/plain": [
       "<Figure size 432x288 with 1 Axes>"
      ]
     },
     "metadata": {
      "needs_background": "light"
     },
     "output_type": "display_data"
    }
   ],
   "source": [
    "fig = plt.figure()\n",
    "ax = fig.add_subplot(111)\n",
    "ax.plot(t[0:1000], s[0:1000], '.')          #t는 시간, s는 각도\n",
    "ax.set_xlabel('time (s)')\n",
    "ax.set_ylabel('real')"
   ]
  },
  {
   "cell_type": "code",
   "execution_count": 64,
   "metadata": {
    "scrolled": true
   },
   "outputs": [
    {
     "data": {
      "text/plain": [
       "array([0.99802673+6.27905195e-02j, 0.9921147 +1.25333234e-01j,\n",
       "       0.98228725+1.87381315e-01j, ..., 0.9921147 -1.25333234e-01j,\n",
       "       0.99802673-6.27905195e-02j, 1.        +1.96438672e-15j])"
      ]
     },
     "execution_count": 64,
     "metadata": {},
     "output_type": "execute_result"
    }
   ],
   "source": [
    "c = np.exp(theta*1j)   #theta값만 변함 , j = i = 마이너스 루트1\n",
    "c\n",
    "\n",
    "#                           e-01 은 10분의 1, e-02는 100분의 1\n",
    "#즉, 모든 숫자는 a+bi의 형태임"
   ]
  },
  {
   "cell_type": "code",
   "execution_count": 66,
   "metadata": {},
   "outputs": [
    {
     "data": {
      "text/plain": [
       "5000"
      ]
     },
     "execution_count": 66,
     "metadata": {},
     "output_type": "execute_result"
    }
   ],
   "source": [
    "len(c)"
   ]
  },
  {
   "cell_type": "code",
   "execution_count": 71,
   "metadata": {},
   "outputs": [
    {
     "data": {
      "application/javascript": [
       "/* Put everything inside the global mpl namespace */\n",
       "window.mpl = {};\n",
       "\n",
       "\n",
       "mpl.get_websocket_type = function() {\n",
       "    if (typeof(WebSocket) !== 'undefined') {\n",
       "        return WebSocket;\n",
       "    } else if (typeof(MozWebSocket) !== 'undefined') {\n",
       "        return MozWebSocket;\n",
       "    } else {\n",
       "        alert('Your browser does not have WebSocket support. ' +\n",
       "              'Please try Chrome, Safari or Firefox ≥ 6. ' +\n",
       "              'Firefox 4 and 5 are also supported but you ' +\n",
       "              'have to enable WebSockets in about:config.');\n",
       "    };\n",
       "}\n",
       "\n",
       "mpl.figure = function(figure_id, websocket, ondownload, parent_element) {\n",
       "    this.id = figure_id;\n",
       "\n",
       "    this.ws = websocket;\n",
       "\n",
       "    this.supports_binary = (this.ws.binaryType != undefined);\n",
       "\n",
       "    if (!this.supports_binary) {\n",
       "        var warnings = document.getElementById(\"mpl-warnings\");\n",
       "        if (warnings) {\n",
       "            warnings.style.display = 'block';\n",
       "            warnings.textContent = (\n",
       "                \"This browser does not support binary websocket messages. \" +\n",
       "                    \"Performance may be slow.\");\n",
       "        }\n",
       "    }\n",
       "\n",
       "    this.imageObj = new Image();\n",
       "\n",
       "    this.context = undefined;\n",
       "    this.message = undefined;\n",
       "    this.canvas = undefined;\n",
       "    this.rubberband_canvas = undefined;\n",
       "    this.rubberband_context = undefined;\n",
       "    this.format_dropdown = undefined;\n",
       "\n",
       "    this.image_mode = 'full';\n",
       "\n",
       "    this.root = $('<div/>');\n",
       "    this._root_extra_style(this.root)\n",
       "    this.root.attr('style', 'display: inline-block');\n",
       "\n",
       "    $(parent_element).append(this.root);\n",
       "\n",
       "    this._init_header(this);\n",
       "    this._init_canvas(this);\n",
       "    this._init_toolbar(this);\n",
       "\n",
       "    var fig = this;\n",
       "\n",
       "    this.waiting = false;\n",
       "\n",
       "    this.ws.onopen =  function () {\n",
       "            fig.send_message(\"supports_binary\", {value: fig.supports_binary});\n",
       "            fig.send_message(\"send_image_mode\", {});\n",
       "            if (mpl.ratio != 1) {\n",
       "                fig.send_message(\"set_dpi_ratio\", {'dpi_ratio': mpl.ratio});\n",
       "            }\n",
       "            fig.send_message(\"refresh\", {});\n",
       "        }\n",
       "\n",
       "    this.imageObj.onload = function() {\n",
       "            if (fig.image_mode == 'full') {\n",
       "                // Full images could contain transparency (where diff images\n",
       "                // almost always do), so we need to clear the canvas so that\n",
       "                // there is no ghosting.\n",
       "                fig.context.clearRect(0, 0, fig.canvas.width, fig.canvas.height);\n",
       "            }\n",
       "            fig.context.drawImage(fig.imageObj, 0, 0);\n",
       "        };\n",
       "\n",
       "    this.imageObj.onunload = function() {\n",
       "        fig.ws.close();\n",
       "    }\n",
       "\n",
       "    this.ws.onmessage = this._make_on_message_function(this);\n",
       "\n",
       "    this.ondownload = ondownload;\n",
       "}\n",
       "\n",
       "mpl.figure.prototype._init_header = function() {\n",
       "    var titlebar = $(\n",
       "        '<div class=\"ui-dialog-titlebar ui-widget-header ui-corner-all ' +\n",
       "        'ui-helper-clearfix\"/>');\n",
       "    var titletext = $(\n",
       "        '<div class=\"ui-dialog-title\" style=\"width: 100%; ' +\n",
       "        'text-align: center; padding: 3px;\"/>');\n",
       "    titlebar.append(titletext)\n",
       "    this.root.append(titlebar);\n",
       "    this.header = titletext[0];\n",
       "}\n",
       "\n",
       "\n",
       "\n",
       "mpl.figure.prototype._canvas_extra_style = function(canvas_div) {\n",
       "\n",
       "}\n",
       "\n",
       "\n",
       "mpl.figure.prototype._root_extra_style = function(canvas_div) {\n",
       "\n",
       "}\n",
       "\n",
       "mpl.figure.prototype._init_canvas = function() {\n",
       "    var fig = this;\n",
       "\n",
       "    var canvas_div = $('<div/>');\n",
       "\n",
       "    canvas_div.attr('style', 'position: relative; clear: both; outline: 0');\n",
       "\n",
       "    function canvas_keyboard_event(event) {\n",
       "        return fig.key_event(event, event['data']);\n",
       "    }\n",
       "\n",
       "    canvas_div.keydown('key_press', canvas_keyboard_event);\n",
       "    canvas_div.keyup('key_release', canvas_keyboard_event);\n",
       "    this.canvas_div = canvas_div\n",
       "    this._canvas_extra_style(canvas_div)\n",
       "    this.root.append(canvas_div);\n",
       "\n",
       "    var canvas = $('<canvas/>');\n",
       "    canvas.addClass('mpl-canvas');\n",
       "    canvas.attr('style', \"left: 0; top: 0; z-index: 0; outline: 0\")\n",
       "\n",
       "    this.canvas = canvas[0];\n",
       "    this.context = canvas[0].getContext(\"2d\");\n",
       "\n",
       "    var backingStore = this.context.backingStorePixelRatio ||\n",
       "\tthis.context.webkitBackingStorePixelRatio ||\n",
       "\tthis.context.mozBackingStorePixelRatio ||\n",
       "\tthis.context.msBackingStorePixelRatio ||\n",
       "\tthis.context.oBackingStorePixelRatio ||\n",
       "\tthis.context.backingStorePixelRatio || 1;\n",
       "\n",
       "    mpl.ratio = (window.devicePixelRatio || 1) / backingStore;\n",
       "\n",
       "    var rubberband = $('<canvas/>');\n",
       "    rubberband.attr('style', \"position: absolute; left: 0; top: 0; z-index: 1;\")\n",
       "\n",
       "    var pass_mouse_events = true;\n",
       "\n",
       "    canvas_div.resizable({\n",
       "        start: function(event, ui) {\n",
       "            pass_mouse_events = false;\n",
       "        },\n",
       "        resize: function(event, ui) {\n",
       "            fig.request_resize(ui.size.width, ui.size.height);\n",
       "        },\n",
       "        stop: function(event, ui) {\n",
       "            pass_mouse_events = true;\n",
       "            fig.request_resize(ui.size.width, ui.size.height);\n",
       "        },\n",
       "    });\n",
       "\n",
       "    function mouse_event_fn(event) {\n",
       "        if (pass_mouse_events)\n",
       "            return fig.mouse_event(event, event['data']);\n",
       "    }\n",
       "\n",
       "    rubberband.mousedown('button_press', mouse_event_fn);\n",
       "    rubberband.mouseup('button_release', mouse_event_fn);\n",
       "    // Throttle sequential mouse events to 1 every 20ms.\n",
       "    rubberband.mousemove('motion_notify', mouse_event_fn);\n",
       "\n",
       "    rubberband.mouseenter('figure_enter', mouse_event_fn);\n",
       "    rubberband.mouseleave('figure_leave', mouse_event_fn);\n",
       "\n",
       "    canvas_div.on(\"wheel\", function (event) {\n",
       "        event = event.originalEvent;\n",
       "        event['data'] = 'scroll'\n",
       "        if (event.deltaY < 0) {\n",
       "            event.step = 1;\n",
       "        } else {\n",
       "            event.step = -1;\n",
       "        }\n",
       "        mouse_event_fn(event);\n",
       "    });\n",
       "\n",
       "    canvas_div.append(canvas);\n",
       "    canvas_div.append(rubberband);\n",
       "\n",
       "    this.rubberband = rubberband;\n",
       "    this.rubberband_canvas = rubberband[0];\n",
       "    this.rubberband_context = rubberband[0].getContext(\"2d\");\n",
       "    this.rubberband_context.strokeStyle = \"#000000\";\n",
       "\n",
       "    this._resize_canvas = function(width, height) {\n",
       "        // Keep the size of the canvas, canvas container, and rubber band\n",
       "        // canvas in synch.\n",
       "        canvas_div.css('width', width)\n",
       "        canvas_div.css('height', height)\n",
       "\n",
       "        canvas.attr('width', width * mpl.ratio);\n",
       "        canvas.attr('height', height * mpl.ratio);\n",
       "        canvas.attr('style', 'width: ' + width + 'px; height: ' + height + 'px;');\n",
       "\n",
       "        rubberband.attr('width', width);\n",
       "        rubberband.attr('height', height);\n",
       "    }\n",
       "\n",
       "    // Set the figure to an initial 600x600px, this will subsequently be updated\n",
       "    // upon first draw.\n",
       "    this._resize_canvas(600, 600);\n",
       "\n",
       "    // Disable right mouse context menu.\n",
       "    $(this.rubberband_canvas).bind(\"contextmenu\",function(e){\n",
       "        return false;\n",
       "    });\n",
       "\n",
       "    function set_focus () {\n",
       "        canvas.focus();\n",
       "        canvas_div.focus();\n",
       "    }\n",
       "\n",
       "    window.setTimeout(set_focus, 100);\n",
       "}\n",
       "\n",
       "mpl.figure.prototype._init_toolbar = function() {\n",
       "    var fig = this;\n",
       "\n",
       "    var nav_element = $('<div/>');\n",
       "    nav_element.attr('style', 'width: 100%');\n",
       "    this.root.append(nav_element);\n",
       "\n",
       "    // Define a callback function for later on.\n",
       "    function toolbar_event(event) {\n",
       "        return fig.toolbar_button_onclick(event['data']);\n",
       "    }\n",
       "    function toolbar_mouse_event(event) {\n",
       "        return fig.toolbar_button_onmouseover(event['data']);\n",
       "    }\n",
       "\n",
       "    for(var toolbar_ind in mpl.toolbar_items) {\n",
       "        var name = mpl.toolbar_items[toolbar_ind][0];\n",
       "        var tooltip = mpl.toolbar_items[toolbar_ind][1];\n",
       "        var image = mpl.toolbar_items[toolbar_ind][2];\n",
       "        var method_name = mpl.toolbar_items[toolbar_ind][3];\n",
       "\n",
       "        if (!name) {\n",
       "            // put a spacer in here.\n",
       "            continue;\n",
       "        }\n",
       "        var button = $('<button/>');\n",
       "        button.addClass('ui-button ui-widget ui-state-default ui-corner-all ' +\n",
       "                        'ui-button-icon-only');\n",
       "        button.attr('role', 'button');\n",
       "        button.attr('aria-disabled', 'false');\n",
       "        button.click(method_name, toolbar_event);\n",
       "        button.mouseover(tooltip, toolbar_mouse_event);\n",
       "\n",
       "        var icon_img = $('<span/>');\n",
       "        icon_img.addClass('ui-button-icon-primary ui-icon');\n",
       "        icon_img.addClass(image);\n",
       "        icon_img.addClass('ui-corner-all');\n",
       "\n",
       "        var tooltip_span = $('<span/>');\n",
       "        tooltip_span.addClass('ui-button-text');\n",
       "        tooltip_span.html(tooltip);\n",
       "\n",
       "        button.append(icon_img);\n",
       "        button.append(tooltip_span);\n",
       "\n",
       "        nav_element.append(button);\n",
       "    }\n",
       "\n",
       "    var fmt_picker_span = $('<span/>');\n",
       "\n",
       "    var fmt_picker = $('<select/>');\n",
       "    fmt_picker.addClass('mpl-toolbar-option ui-widget ui-widget-content');\n",
       "    fmt_picker_span.append(fmt_picker);\n",
       "    nav_element.append(fmt_picker_span);\n",
       "    this.format_dropdown = fmt_picker[0];\n",
       "\n",
       "    for (var ind in mpl.extensions) {\n",
       "        var fmt = mpl.extensions[ind];\n",
       "        var option = $(\n",
       "            '<option/>', {selected: fmt === mpl.default_extension}).html(fmt);\n",
       "        fmt_picker.append(option);\n",
       "    }\n",
       "\n",
       "    // Add hover states to the ui-buttons\n",
       "    $( \".ui-button\" ).hover(\n",
       "        function() { $(this).addClass(\"ui-state-hover\");},\n",
       "        function() { $(this).removeClass(\"ui-state-hover\");}\n",
       "    );\n",
       "\n",
       "    var status_bar = $('<span class=\"mpl-message\"/>');\n",
       "    nav_element.append(status_bar);\n",
       "    this.message = status_bar[0];\n",
       "}\n",
       "\n",
       "mpl.figure.prototype.request_resize = function(x_pixels, y_pixels) {\n",
       "    // Request matplotlib to resize the figure. Matplotlib will then trigger a resize in the client,\n",
       "    // which will in turn request a refresh of the image.\n",
       "    this.send_message('resize', {'width': x_pixels, 'height': y_pixels});\n",
       "}\n",
       "\n",
       "mpl.figure.prototype.send_message = function(type, properties) {\n",
       "    properties['type'] = type;\n",
       "    properties['figure_id'] = this.id;\n",
       "    this.ws.send(JSON.stringify(properties));\n",
       "}\n",
       "\n",
       "mpl.figure.prototype.send_draw_message = function() {\n",
       "    if (!this.waiting) {\n",
       "        this.waiting = true;\n",
       "        this.ws.send(JSON.stringify({type: \"draw\", figure_id: this.id}));\n",
       "    }\n",
       "}\n",
       "\n",
       "\n",
       "mpl.figure.prototype.handle_save = function(fig, msg) {\n",
       "    var format_dropdown = fig.format_dropdown;\n",
       "    var format = format_dropdown.options[format_dropdown.selectedIndex].value;\n",
       "    fig.ondownload(fig, format);\n",
       "}\n",
       "\n",
       "\n",
       "mpl.figure.prototype.handle_resize = function(fig, msg) {\n",
       "    var size = msg['size'];\n",
       "    if (size[0] != fig.canvas.width || size[1] != fig.canvas.height) {\n",
       "        fig._resize_canvas(size[0], size[1]);\n",
       "        fig.send_message(\"refresh\", {});\n",
       "    };\n",
       "}\n",
       "\n",
       "mpl.figure.prototype.handle_rubberband = function(fig, msg) {\n",
       "    var x0 = msg['x0'] / mpl.ratio;\n",
       "    var y0 = (fig.canvas.height - msg['y0']) / mpl.ratio;\n",
       "    var x1 = msg['x1'] / mpl.ratio;\n",
       "    var y1 = (fig.canvas.height - msg['y1']) / mpl.ratio;\n",
       "    x0 = Math.floor(x0) + 0.5;\n",
       "    y0 = Math.floor(y0) + 0.5;\n",
       "    x1 = Math.floor(x1) + 0.5;\n",
       "    y1 = Math.floor(y1) + 0.5;\n",
       "    var min_x = Math.min(x0, x1);\n",
       "    var min_y = Math.min(y0, y1);\n",
       "    var width = Math.abs(x1 - x0);\n",
       "    var height = Math.abs(y1 - y0);\n",
       "\n",
       "    fig.rubberband_context.clearRect(\n",
       "        0, 0, fig.canvas.width, fig.canvas.height);\n",
       "\n",
       "    fig.rubberband_context.strokeRect(min_x, min_y, width, height);\n",
       "}\n",
       "\n",
       "mpl.figure.prototype.handle_figure_label = function(fig, msg) {\n",
       "    // Updates the figure title.\n",
       "    fig.header.textContent = msg['label'];\n",
       "}\n",
       "\n",
       "mpl.figure.prototype.handle_cursor = function(fig, msg) {\n",
       "    var cursor = msg['cursor'];\n",
       "    switch(cursor)\n",
       "    {\n",
       "    case 0:\n",
       "        cursor = 'pointer';\n",
       "        break;\n",
       "    case 1:\n",
       "        cursor = 'default';\n",
       "        break;\n",
       "    case 2:\n",
       "        cursor = 'crosshair';\n",
       "        break;\n",
       "    case 3:\n",
       "        cursor = 'move';\n",
       "        break;\n",
       "    }\n",
       "    fig.rubberband_canvas.style.cursor = cursor;\n",
       "}\n",
       "\n",
       "mpl.figure.prototype.handle_message = function(fig, msg) {\n",
       "    fig.message.textContent = msg['message'];\n",
       "}\n",
       "\n",
       "mpl.figure.prototype.handle_draw = function(fig, msg) {\n",
       "    // Request the server to send over a new figure.\n",
       "    fig.send_draw_message();\n",
       "}\n",
       "\n",
       "mpl.figure.prototype.handle_image_mode = function(fig, msg) {\n",
       "    fig.image_mode = msg['mode'];\n",
       "}\n",
       "\n",
       "mpl.figure.prototype.updated_canvas_event = function() {\n",
       "    // Called whenever the canvas gets updated.\n",
       "    this.send_message(\"ack\", {});\n",
       "}\n",
       "\n",
       "// A function to construct a web socket function for onmessage handling.\n",
       "// Called in the figure constructor.\n",
       "mpl.figure.prototype._make_on_message_function = function(fig) {\n",
       "    return function socket_on_message(evt) {\n",
       "        if (evt.data instanceof Blob) {\n",
       "            /* FIXME: We get \"Resource interpreted as Image but\n",
       "             * transferred with MIME type text/plain:\" errors on\n",
       "             * Chrome.  But how to set the MIME type?  It doesn't seem\n",
       "             * to be part of the websocket stream */\n",
       "            evt.data.type = \"image/png\";\n",
       "\n",
       "            /* Free the memory for the previous frames */\n",
       "            if (fig.imageObj.src) {\n",
       "                (window.URL || window.webkitURL).revokeObjectURL(\n",
       "                    fig.imageObj.src);\n",
       "            }\n",
       "\n",
       "            fig.imageObj.src = (window.URL || window.webkitURL).createObjectURL(\n",
       "                evt.data);\n",
       "            fig.updated_canvas_event();\n",
       "            fig.waiting = false;\n",
       "            return;\n",
       "        }\n",
       "        else if (typeof evt.data === 'string' && evt.data.slice(0, 21) == \"data:image/png;base64\") {\n",
       "            fig.imageObj.src = evt.data;\n",
       "            fig.updated_canvas_event();\n",
       "            fig.waiting = false;\n",
       "            return;\n",
       "        }\n",
       "\n",
       "        var msg = JSON.parse(evt.data);\n",
       "        var msg_type = msg['type'];\n",
       "\n",
       "        // Call the  \"handle_{type}\" callback, which takes\n",
       "        // the figure and JSON message as its only arguments.\n",
       "        try {\n",
       "            var callback = fig[\"handle_\" + msg_type];\n",
       "        } catch (e) {\n",
       "            console.log(\"No handler for the '\" + msg_type + \"' message type: \", msg);\n",
       "            return;\n",
       "        }\n",
       "\n",
       "        if (callback) {\n",
       "            try {\n",
       "                // console.log(\"Handling '\" + msg_type + \"' message: \", msg);\n",
       "                callback(fig, msg);\n",
       "            } catch (e) {\n",
       "                console.log(\"Exception inside the 'handler_\" + msg_type + \"' callback:\", e, e.stack, msg);\n",
       "            }\n",
       "        }\n",
       "    };\n",
       "}\n",
       "\n",
       "// from http://stackoverflow.com/questions/1114465/getting-mouse-location-in-canvas\n",
       "mpl.findpos = function(e) {\n",
       "    //this section is from http://www.quirksmode.org/js/events_properties.html\n",
       "    var targ;\n",
       "    if (!e)\n",
       "        e = window.event;\n",
       "    if (e.target)\n",
       "        targ = e.target;\n",
       "    else if (e.srcElement)\n",
       "        targ = e.srcElement;\n",
       "    if (targ.nodeType == 3) // defeat Safari bug\n",
       "        targ = targ.parentNode;\n",
       "\n",
       "    // jQuery normalizes the pageX and pageY\n",
       "    // pageX,Y are the mouse positions relative to the document\n",
       "    // offset() returns the position of the element relative to the document\n",
       "    var x = e.pageX - $(targ).offset().left;\n",
       "    var y = e.pageY - $(targ).offset().top;\n",
       "\n",
       "    return {\"x\": x, \"y\": y};\n",
       "};\n",
       "\n",
       "/*\n",
       " * return a copy of an object with only non-object keys\n",
       " * we need this to avoid circular references\n",
       " * http://stackoverflow.com/a/24161582/3208463\n",
       " */\n",
       "function simpleKeys (original) {\n",
       "  return Object.keys(original).reduce(function (obj, key) {\n",
       "    if (typeof original[key] !== 'object')\n",
       "        obj[key] = original[key]\n",
       "    return obj;\n",
       "  }, {});\n",
       "}\n",
       "\n",
       "mpl.figure.prototype.mouse_event = function(event, name) {\n",
       "    var canvas_pos = mpl.findpos(event)\n",
       "\n",
       "    if (name === 'button_press')\n",
       "    {\n",
       "        this.canvas.focus();\n",
       "        this.canvas_div.focus();\n",
       "    }\n",
       "\n",
       "    var x = canvas_pos.x * mpl.ratio;\n",
       "    var y = canvas_pos.y * mpl.ratio;\n",
       "\n",
       "    this.send_message(name, {x: x, y: y, button: event.button,\n",
       "                             step: event.step,\n",
       "                             guiEvent: simpleKeys(event)});\n",
       "\n",
       "    /* This prevents the web browser from automatically changing to\n",
       "     * the text insertion cursor when the button is pressed.  We want\n",
       "     * to control all of the cursor setting manually through the\n",
       "     * 'cursor' event from matplotlib */\n",
       "    event.preventDefault();\n",
       "    return false;\n",
       "}\n",
       "\n",
       "mpl.figure.prototype._key_event_extra = function(event, name) {\n",
       "    // Handle any extra behaviour associated with a key event\n",
       "}\n",
       "\n",
       "mpl.figure.prototype.key_event = function(event, name) {\n",
       "\n",
       "    // Prevent repeat events\n",
       "    if (name == 'key_press')\n",
       "    {\n",
       "        if (event.which === this._key)\n",
       "            return;\n",
       "        else\n",
       "            this._key = event.which;\n",
       "    }\n",
       "    if (name == 'key_release')\n",
       "        this._key = null;\n",
       "\n",
       "    var value = '';\n",
       "    if (event.ctrlKey && event.which != 17)\n",
       "        value += \"ctrl+\";\n",
       "    if (event.altKey && event.which != 18)\n",
       "        value += \"alt+\";\n",
       "    if (event.shiftKey && event.which != 16)\n",
       "        value += \"shift+\";\n",
       "\n",
       "    value += 'k';\n",
       "    value += event.which.toString();\n",
       "\n",
       "    this._key_event_extra(event, name);\n",
       "\n",
       "    this.send_message(name, {key: value,\n",
       "                             guiEvent: simpleKeys(event)});\n",
       "    return false;\n",
       "}\n",
       "\n",
       "mpl.figure.prototype.toolbar_button_onclick = function(name) {\n",
       "    if (name == 'download') {\n",
       "        this.handle_save(this, null);\n",
       "    } else {\n",
       "        this.send_message(\"toolbar_button\", {name: name});\n",
       "    }\n",
       "};\n",
       "\n",
       "mpl.figure.prototype.toolbar_button_onmouseover = function(tooltip) {\n",
       "    this.message.textContent = tooltip;\n",
       "};\n",
       "mpl.toolbar_items = [[\"Home\", \"Reset original view\", \"fa fa-home icon-home\", \"home\"], [\"Back\", \"Back to previous view\", \"fa fa-arrow-left icon-arrow-left\", \"back\"], [\"Forward\", \"Forward to next view\", \"fa fa-arrow-right icon-arrow-right\", \"forward\"], [\"\", \"\", \"\", \"\"], [\"Pan\", \"Pan axes with left mouse, zoom with right\", \"fa fa-arrows icon-move\", \"pan\"], [\"Zoom\", \"Zoom to rectangle\", \"fa fa-square-o icon-check-empty\", \"zoom\"], [\"\", \"\", \"\", \"\"], [\"Download\", \"Download plot\", \"fa fa-floppy-o icon-save\", \"download\"]];\n",
       "\n",
       "mpl.extensions = [\"eps\", \"jpeg\", \"pdf\", \"png\", \"ps\", \"raw\", \"svg\", \"tif\"];\n",
       "\n",
       "mpl.default_extension = \"png\";var comm_websocket_adapter = function(comm) {\n",
       "    // Create a \"websocket\"-like object which calls the given IPython comm\n",
       "    // object with the appropriate methods. Currently this is a non binary\n",
       "    // socket, so there is still some room for performance tuning.\n",
       "    var ws = {};\n",
       "\n",
       "    ws.close = function() {\n",
       "        comm.close()\n",
       "    };\n",
       "    ws.send = function(m) {\n",
       "        //console.log('sending', m);\n",
       "        comm.send(m);\n",
       "    };\n",
       "    // Register the callback with on_msg.\n",
       "    comm.on_msg(function(msg) {\n",
       "        //console.log('receiving', msg['content']['data'], msg);\n",
       "        // Pass the mpl event to the overridden (by mpl) onmessage function.\n",
       "        ws.onmessage(msg['content']['data'])\n",
       "    });\n",
       "    return ws;\n",
       "}\n",
       "\n",
       "mpl.mpl_figure_comm = function(comm, msg) {\n",
       "    // This is the function which gets called when the mpl process\n",
       "    // starts-up an IPython Comm through the \"matplotlib\" channel.\n",
       "\n",
       "    var id = msg.content.data.id;\n",
       "    // Get hold of the div created by the display call when the Comm\n",
       "    // socket was opened in Python.\n",
       "    var element = $(\"#\" + id);\n",
       "    var ws_proxy = comm_websocket_adapter(comm)\n",
       "\n",
       "    function ondownload(figure, format) {\n",
       "        window.open(figure.imageObj.src);\n",
       "    }\n",
       "\n",
       "    var fig = new mpl.figure(id, ws_proxy,\n",
       "                           ondownload,\n",
       "                           element.get(0));\n",
       "\n",
       "    // Call onopen now - mpl needs it, as it is assuming we've passed it a real\n",
       "    // web socket which is closed, not our websocket->open comm proxy.\n",
       "    ws_proxy.onopen();\n",
       "\n",
       "    fig.parent_element = element.get(0);\n",
       "    fig.cell_info = mpl.find_output_cell(\"<div id='\" + id + \"'></div>\");\n",
       "    if (!fig.cell_info) {\n",
       "        console.error(\"Failed to find cell for figure\", id, fig);\n",
       "        return;\n",
       "    }\n",
       "\n",
       "    var output_index = fig.cell_info[2]\n",
       "    var cell = fig.cell_info[0];\n",
       "\n",
       "};\n",
       "\n",
       "mpl.figure.prototype.handle_close = function(fig, msg) {\n",
       "    var width = fig.canvas.width/mpl.ratio\n",
       "    fig.root.unbind('remove')\n",
       "\n",
       "    // Update the output cell to use the data from the current canvas.\n",
       "    fig.push_to_output();\n",
       "    var dataURL = fig.canvas.toDataURL();\n",
       "    // Re-enable the keyboard manager in IPython - without this line, in FF,\n",
       "    // the notebook keyboard shortcuts fail.\n",
       "    IPython.keyboard_manager.enable()\n",
       "    $(fig.parent_element).html('<img src=\"' + dataURL + '\" width=\"' + width + '\">');\n",
       "    fig.close_ws(fig, msg);\n",
       "}\n",
       "\n",
       "mpl.figure.prototype.close_ws = function(fig, msg){\n",
       "    fig.send_message('closing', msg);\n",
       "    // fig.ws.close()\n",
       "}\n",
       "\n",
       "mpl.figure.prototype.push_to_output = function(remove_interactive) {\n",
       "    // Turn the data on the canvas into data in the output cell.\n",
       "    var width = this.canvas.width/mpl.ratio\n",
       "    var dataURL = this.canvas.toDataURL();\n",
       "    this.cell_info[1]['text/html'] = '<img src=\"' + dataURL + '\" width=\"' + width + '\">';\n",
       "}\n",
       "\n",
       "mpl.figure.prototype.updated_canvas_event = function() {\n",
       "    // Tell IPython that the notebook contents must change.\n",
       "    IPython.notebook.set_dirty(true);\n",
       "    this.send_message(\"ack\", {});\n",
       "    var fig = this;\n",
       "    // Wait a second, then push the new image to the DOM so\n",
       "    // that it is saved nicely (might be nice to debounce this).\n",
       "    setTimeout(function () { fig.push_to_output() }, 1000);\n",
       "}\n",
       "\n",
       "mpl.figure.prototype._init_toolbar = function() {\n",
       "    var fig = this;\n",
       "\n",
       "    var nav_element = $('<div/>');\n",
       "    nav_element.attr('style', 'width: 100%');\n",
       "    this.root.append(nav_element);\n",
       "\n",
       "    // Define a callback function for later on.\n",
       "    function toolbar_event(event) {\n",
       "        return fig.toolbar_button_onclick(event['data']);\n",
       "    }\n",
       "    function toolbar_mouse_event(event) {\n",
       "        return fig.toolbar_button_onmouseover(event['data']);\n",
       "    }\n",
       "\n",
       "    for(var toolbar_ind in mpl.toolbar_items){\n",
       "        var name = mpl.toolbar_items[toolbar_ind][0];\n",
       "        var tooltip = mpl.toolbar_items[toolbar_ind][1];\n",
       "        var image = mpl.toolbar_items[toolbar_ind][2];\n",
       "        var method_name = mpl.toolbar_items[toolbar_ind][3];\n",
       "\n",
       "        if (!name) { continue; };\n",
       "\n",
       "        var button = $('<button class=\"btn btn-default\" href=\"#\" title=\"' + name + '\"><i class=\"fa ' + image + ' fa-lg\"></i></button>');\n",
       "        button.click(method_name, toolbar_event);\n",
       "        button.mouseover(tooltip, toolbar_mouse_event);\n",
       "        nav_element.append(button);\n",
       "    }\n",
       "\n",
       "    // Add the status bar.\n",
       "    var status_bar = $('<span class=\"mpl-message\" style=\"text-align:right; float: right;\"/>');\n",
       "    nav_element.append(status_bar);\n",
       "    this.message = status_bar[0];\n",
       "\n",
       "    // Add the close button to the window.\n",
       "    var buttongrp = $('<div class=\"btn-group inline pull-right\"></div>');\n",
       "    var button = $('<button class=\"btn btn-mini btn-primary\" href=\"#\" title=\"Stop Interaction\"><i class=\"fa fa-power-off icon-remove icon-large\"></i></button>');\n",
       "    button.click(function (evt) { fig.handle_close(fig, {}); } );\n",
       "    button.mouseover('Stop Interaction', toolbar_mouse_event);\n",
       "    buttongrp.append(button);\n",
       "    var titlebar = this.root.find($('.ui-dialog-titlebar'));\n",
       "    titlebar.prepend(buttongrp);\n",
       "}\n",
       "\n",
       "mpl.figure.prototype._root_extra_style = function(el){\n",
       "    var fig = this\n",
       "    el.on(\"remove\", function(){\n",
       "\tfig.close_ws(fig, {});\n",
       "    });\n",
       "}\n",
       "\n",
       "mpl.figure.prototype._canvas_extra_style = function(el){\n",
       "    // this is important to make the div 'focusable\n",
       "    el.attr('tabindex', 0)\n",
       "    // reach out to IPython and tell the keyboard manager to turn it's self\n",
       "    // off when our div gets focus\n",
       "\n",
       "    // location in version 3\n",
       "    if (IPython.notebook.keyboard_manager) {\n",
       "        IPython.notebook.keyboard_manager.register_events(el);\n",
       "    }\n",
       "    else {\n",
       "        // location in version 2\n",
       "        IPython.keyboard_manager.register_events(el);\n",
       "    }\n",
       "\n",
       "}\n",
       "\n",
       "mpl.figure.prototype._key_event_extra = function(event, name) {\n",
       "    var manager = IPython.notebook.keyboard_manager;\n",
       "    if (!manager)\n",
       "        manager = IPython.keyboard_manager;\n",
       "\n",
       "    // Check for shift+enter\n",
       "    if (event.shiftKey && event.which == 13) {\n",
       "        this.canvas_div.blur();\n",
       "        event.shiftKey = false;\n",
       "        // Send a \"J\" for go to next cell\n",
       "        event.which = 74;\n",
       "        event.keyCode = 74;\n",
       "        manager.command_mode();\n",
       "        manager.handle_keydown(event);\n",
       "    }\n",
       "}\n",
       "\n",
       "mpl.figure.prototype.handle_save = function(fig, msg) {\n",
       "    fig.ondownload(fig, null);\n",
       "}\n",
       "\n",
       "\n",
       "mpl.find_output_cell = function(html_output) {\n",
       "    // Return the cell and output element which can be found *uniquely* in the notebook.\n",
       "    // Note - this is a bit hacky, but it is done because the \"notebook_saving.Notebook\"\n",
       "    // IPython event is triggered only after the cells have been serialised, which for\n",
       "    // our purposes (turning an active figure into a static one), is too late.\n",
       "    var cells = IPython.notebook.get_cells();\n",
       "    var ncells = cells.length;\n",
       "    for (var i=0; i<ncells; i++) {\n",
       "        var cell = cells[i];\n",
       "        if (cell.cell_type === 'code'){\n",
       "            for (var j=0; j<cell.output_area.outputs.length; j++) {\n",
       "                var data = cell.output_area.outputs[j];\n",
       "                if (data.data) {\n",
       "                    // IPython >= 3 moved mimebundle to data attribute of output\n",
       "                    data = data.data;\n",
       "                }\n",
       "                if (data['text/html'] == html_output) {\n",
       "                    return [cell, data, j];\n",
       "                }\n",
       "            }\n",
       "        }\n",
       "    }\n",
       "}\n",
       "\n",
       "// Register the function which deals with the matplotlib target/channel.\n",
       "// The kernel may be null if the page has been refreshed.\n",
       "if (IPython.notebook.kernel != null) {\n",
       "    IPython.notebook.kernel.comm_manager.register_target('matplotlib', mpl.mpl_figure_comm);\n",
       "}\n"
      ],
      "text/plain": [
       "<IPython.core.display.Javascript object>"
      ]
     },
     "metadata": {},
     "output_type": "display_data"
    },
    {
     "data": {
      "text/html": [
       "<img src=\"data:image/png;base64,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\" width=\"640\">"
      ],
      "text/plain": [
       "<IPython.core.display.HTML object>"
      ]
     },
     "metadata": {},
     "output_type": "display_data"
    },
    {
     "data": {
      "text/plain": [
       "Text(0.5, 0, 'imag')"
      ]
     },
     "execution_count": 71,
     "metadata": {},
     "output_type": "execute_result"
    }
   ],
   "source": [
    "fig = plt.figure()\n",
    "ax = fig.add_subplot(111, projection='3d')\n",
    "ax.plot(t[0:1000], c.real[0:1000], c.imag[0:1000], '-')   #3차원이니까 3개의 입력 한 점당 3요소를 가짐(a,b,c)\n",
    "#       시간,     c(=a+bi)값의 a부분,    c값의 b부분 \n",
    "ax.set_xlabel('time (s)')\n",
    "ax.set_ylabel('real')\n",
    "ax.set_zlabel('imag')"
   ]
  },
  {
   "cell_type": "code",
   "execution_count": null,
   "metadata": {},
   "outputs": [],
   "source": [
    "#코사인은 real, 사인은 imaginary와 관련되어있음"
   ]
  },
  {
   "cell_type": "code",
   "execution_count": null,
   "metadata": {},
   "outputs": [],
   "source": [
    "#위에서 봤을 때 imag축 무시하고 보면 코사인그래프가 그려짐. (1,0)에서 시작\n",
    "#옆에서 봤을 때 real축 무시하고 보면 사인그래프가 그려짐 (0,0)에서 시작"
   ]
  },
  {
   "cell_type": "code",
   "execution_count": 72,
   "metadata": {},
   "outputs": [
    {
     "data": {
      "text/html": [
       "\n",
       "                <audio  controls=\"controls\" >\n",
       "                    <source src=\"data:audio/wav;base64,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\" type=\"audio/wav\" />\n",
       "                    Your browser does not support the audio element.\n",
       "                </audio>\n",
       "              "
      ],
      "text/plain": [
       "<IPython.lib.display.Audio object>"
      ]
     },
     "execution_count": 72,
     "metadata": {},
     "output_type": "execute_result"
    }
   ],
   "source": [
    "ipd.Audio(s,rate=sr)   #오디오 실행하는 라이브러리"
   ]
  },
  {
   "cell_type": "code",
   "execution_count": null,
   "metadata": {},
   "outputs": [],
   "source": []
  },
  {
   "cell_type": "code",
   "execution_count": null,
   "metadata": {},
   "outputs": [],
   "source": []
  },
  {
   "cell_type": "code",
   "execution_count": null,
   "metadata": {},
   "outputs": [],
   "source": []
  }
 ],
 "metadata": {
  "kernelspec": {
   "display_name": "Python 3",
   "language": "python",
   "name": "python3"
  },
  "language_info": {
   "codemirror_mode": {
    "name": "ipython",
    "version": 3
   },
   "file_extension": ".py",
   "mimetype": "text/x-python",
   "name": "python",
   "nbconvert_exporter": "python",
   "pygments_lexer": "ipython3",
   "version": "3.7.3"
  }
 },
 "nbformat": 4,
 "nbformat_minor": 2
}
