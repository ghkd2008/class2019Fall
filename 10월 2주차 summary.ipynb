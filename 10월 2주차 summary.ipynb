{
 "cells": [
  {
   "cell_type": "markdown",
   "metadata": {},
   "source": [
    "#영어음성학 10월 2주차 summary\n"
   ]
  },
  {
   "cell_type": "markdown",
   "metadata": {},
   "source": [
    "10/8 화요일\n",
    "\n",
    "변수에 정보가 들어있을 때, 그 정보를 가져오는 작업을 할 수 있어야 함.\n",
    "리스트와 스트링은 정보를 가져올 때 똑같은 방식으로 접근함.\n",
    "[n:m]이면 n번째 인덱스부터 m-1번째 인덱스까지 가져옴.\n",
    "리스트에 len()함수 쓰면 원소 개수가 길이로 나옴"
   ]
  },
  {
   "cell_type": "code",
   "execution_count": 1,
   "metadata": {},
   "outputs": [
    {
     "name": "stdout",
     "output_type": "stream",
     "text": [
      "apple\n"
     ]
    }
   ],
   "source": [
    "#딕셔너리 타입\n",
    "a ={1:\"apple\",\"b\":\"orange\",\"c\":2014}\n",
    "print(a[1])\n",
    "'''\n",
    "어떤 변수의 내부정보를 부분적으로 가져올 때는 [] 를 사용.\n",
    "다만,딕셔너리 타입에서는 정보에 접근할 때는 인덱스 []값에 숫자를 넣는 게 아니고, 왼쪽에 있는 정보를 넣음으로써 접근함.\n",
    "즉, a[1]에 들어간 1은 인덱스 값이 아닌 딕셔너리 첫 번째 element의 왼쪽 값 1을 의미함.\n",
    "'''"
   ]
  },
  {
   "cell_type": "code",
   "execution_count": 2,
   "metadata": {},
   "outputs": [
    {
     "data": {
      "text/plain": [
       "2"
      ]
     },
     "execution_count": 2,
     "metadata": {},
     "output_type": "execute_result"
    }
   ],
   "source": [
    "a=1\n",
    "b=1\n",
    "c=a+b\n",
    "c            #a와 b라는 변수에 들은 값을 반환하는 c"
   ]
  },
  {
   "cell_type": "code",
   "execution_count": 3,
   "metadata": {},
   "outputs": [
    {
     "name": "stdout",
     "output_type": "stream",
     "text": [
      "a f f a\n"
     ]
    }
   ],
   "source": [
    "s = 'abcdef' #s는 string\n",
    "n = [100, 200, 300] #n은 list\n",
    "print(s[0],s[5],s[-1],s[-6])"
   ]
  },
  {
   "cell_type": "code",
   "execution_count": 4,
   "metadata": {},
   "outputs": [
    {
     "name": "stdout",
     "output_type": "stream",
     "text": [
      "[200] [200, 300] [100, 200, 300]\n"
     ]
    }
   ],
   "source": [
    "print(n[1:2],n[1:],n[:3])        #[m:n]하면 인덱스 m부터 n-1까지 출력."
   ]
  },
  {
   "cell_type": "code",
   "execution_count": 9,
   "metadata": {},
   "outputs": [],
   "source": [
    "s = ' this is a house built this year.\\n' "
   ]
  },
  {
   "cell_type": "code",
   "execution_count": 8,
   "metadata": {},
   "outputs": [
    {
     "data": {
      "text/plain": [
       "11"
      ]
     },
     "execution_count": 8,
     "metadata": {},
     "output_type": "execute_result"
    }
   ],
   "source": [
    "s.find('house')"
   ]
  },
  {
   "cell_type": "code",
   "execution_count": 7,
   "metadata": {},
   "outputs": [
    {
     "data": {
      "text/plain": [
       "1"
      ]
     },
     "execution_count": 7,
     "metadata": {},
     "output_type": "execute_result"
    }
   ],
   "source": [
    "s.find('this') #this 가 두개지만 왼쪽부터 찾아서 맨 처음 나오는 것의 인덱스 값 뱉음"
   ]
  },
  {
   "cell_type": "code",
   "execution_count": 6,
   "metadata": {},
   "outputs": [
    {
     "data": {
      "text/plain": [
       "23"
      ]
     },
     "execution_count": 6,
     "metadata": {},
     "output_type": "execute_result"
    }
   ],
   "source": [
    "s.rindex('this') #오른쪽부터 this를 찾은 후 그 t의 인덱스값 뱉음"
   ]
  },
  {
   "cell_type": "code",
   "execution_count": 10,
   "metadata": {
    "scrolled": true
   },
   "outputs": [
    {
     "data": {
      "text/plain": [
       "'this is a house built this year.'"
      ]
     },
     "execution_count": 10,
     "metadata": {},
     "output_type": "execute_result"
    }
   ],
   "source": [
    "s.strip() #양쪽 공백 문자 삭제"
   ]
  },
  {
   "cell_type": "code",
   "execution_count": 11,
   "metadata": {},
   "outputs": [
    {
     "data": {
      "text/plain": [
       "['this', 'is', 'a', 'house', 'built', 'this', 'year.']"
      ]
     },
     "execution_count": 11,
     "metadata": {},
     "output_type": "execute_result"
    }
   ],
   "source": [
    "tokens = s.split()\n",
    "tokens"
   ]
  },
  {
   "cell_type": "code",
   "execution_count": 12,
   "metadata": {},
   "outputs": [
    {
     "data": {
      "text/plain": [
       "'this is a house built this year.'"
      ]
     },
     "execution_count": 12,
     "metadata": {},
     "output_type": "execute_result"
    }
   ],
   "source": [
    " d=' '.join(tokens) # ' '를 이용해서 리스트의 요소들을 문자열로 합쳐서 반환.\n",
    "d"
   ]
  },
  {
   "cell_type": "code",
   "execution_count": 13,
   "metadata": {},
   "outputs": [
    {
     "data": {
      "text/plain": [
       "str"
      ]
     },
     "execution_count": 13,
     "metadata": {},
     "output_type": "execute_result"
    }
   ],
   "source": [
    "type(d) #join함수 사용하면 문자열로 반환됨!"
   ]
  },
  {
   "cell_type": "code",
   "execution_count": 14,
   "metadata": {},
   "outputs": [
    {
     "data": {
      "text/plain": [
       "' that is a house built that year.\\n'"
      ]
     },
     "execution_count": 14,
     "metadata": {},
     "output_type": "execute_result"
    }
   ],
   "source": [
    "s.replace('this', 'that') #.replace('A','B') 모든 A를 B로 변환!"
   ]
  },
  {
   "cell_type": "markdown",
   "metadata": {},
   "source": [
    "10/10 화요일\n",
    "\n",
    "code를 Markdown으로 바꾸면 그냥 텍스트로 인식\n",
    "Syntax에 대해 배워볼 것임."
   ]
  },
  {
   "cell_type": "code",
   "execution_count": 3,
   "metadata": {
    "scrolled": true
   },
   "outputs": [
    {
     "name": "stdout",
     "output_type": "stream",
     "text": [
      "1\n",
      "2\n",
      "3\n",
      "4\n"
     ]
    }
   ],
   "source": [
    "#for loop\n",
    "a=[1,2,3,4]\n",
    "for i in a:     #a에 들어있는 것들을 i로 하나씩 받아서 무언가를 수행하라!\n",
    "    print(i)     # i를 출력하라\n",
    "    "
   ]
  },
  {
   "cell_type": "code",
   "execution_count": 10,
   "metadata": {},
   "outputs": [
    {
     "name": "stdout",
     "output_type": "stream",
     "text": [
      "1\n",
      "2\n",
      "3\n",
      "4\n",
      "5\n",
      "6\n",
      "7\n"
     ]
    }
   ],
   "source": [
    "a=[1,2,3,4,5,6,7]\n",
    "for i in range(len(a)):    #인덱스가 7칸인 리스트0123456가 만들어짐\n",
    "    print(a[i])"
   ]
  },
  {
   "cell_type": "code",
   "execution_count": 14,
   "metadata": {},
   "outputs": [
    {
     "name": "stdout",
     "output_type": "stream",
     "text": [
      "red\n",
      "green\n",
      "blue\n",
      "purple\n"
     ]
    }
   ],
   "source": [
    "a=['red','green','blue','purple']\n",
    "for s in a:\n",
    "    print(s)"
   ]
  },
  {
   "cell_type": "code",
   "execution_count": 17,
   "metadata": {},
   "outputs": [
    {
     "name": "stdout",
     "output_type": "stream",
     "text": [
      "red\n",
      "green\n",
      "blue\n",
      "purple\n"
     ]
    }
   ],
   "source": [
    "a=['red','green','blue','purple']\n",
    "for s in range(len(a)):\n",
    "    print(a[s])"
   ]
  },
  {
   "cell_type": "code",
   "execution_count": 23,
   "metadata": {},
   "outputs": [
    {
     "name": "stdout",
     "output_type": "stream",
     "text": [
      "red:20.0%\n",
      "green:30.0%\n",
      "blue:10.0%\n",
      "purple:40.0%\n"
     ]
    }
   ],
   "source": [
    "a=['red','green','blue','purple']\n",
    "b=[0.2,0.3,0.1,0.4]\n",
    "for i,s in enumerate(a):    #enumerate는 번호 메긴다는 뜻. i에는 인덱스값0, s에는 'red'\n",
    "    print('{}:{}%'.format(s,b[i]*100))\n",
    "    #''혹은 \"\"안에 원하는 형식(format)으로 적고 i와 s가 들어갈 중괄호 만들어주면 됨/ 뒤에.format쓰고 i와 s 순서 바꿔도되고 연산해도되고"
   ]
  },
  {
   "cell_type": "code",
   "execution_count": 29,
   "metadata": {},
   "outputs": [
    {
     "name": "stdout",
     "output_type": "stream",
     "text": [
      "red:20.0%\n",
      "green:30.0%\n",
      "blue:10.0%\n",
      "purple:40.0%\n"
     ]
    }
   ],
   "source": [
    "a=['red','green','blue','purple']\n",
    "b=[0.2,0.3,0.1,0.4]\n",
    "for s,i in zip(a,b):\n",
    "    print('{}:{}%'.format(s,i*100)) #zip과 enumerate의 차이?\n",
    "                                    #enumerate는 하나의 list에서 인덱스와 값이 묶여서 출력되고, \n",
    "                                    #zip은 두 개의 list에서 값(인덱스 아님!)을 병렬적으로 추출"
   ]
  },
  {
   "cell_type": "code",
   "execution_count": null,
   "metadata": {},
   "outputs": [],
   "source": [
    "#if문"
   ]
  },
  {
   "cell_type": "code",
   "execution_count": 30,
   "metadata": {},
   "outputs": [
    {
     "name": "stdout",
     "output_type": "stream",
     "text": [
      "0\n"
     ]
    }
   ],
   "source": [
    "a = 0\n",
    "if a==0:\n",
    "    print(a)"
   ]
  },
  {
   "cell_type": "code",
   "execution_count": 33,
   "metadata": {},
   "outputs": [
    {
     "name": "stdout",
     "output_type": "stream",
     "text": [
      "no\n"
     ]
    }
   ],
   "source": [
    "a = 1\n",
    "if a==0:\n",
    "    print(\"yes\")\n",
    "else:\n",
    "    print(\"no\")"
   ]
  },
  {
   "cell_type": "code",
   "execution_count": 35,
   "metadata": {},
   "outputs": [
    {
     "name": "stdout",
     "output_type": "stream",
     "text": [
      "3\n",
      "4\n",
      "6\n",
      "8\n"
     ]
    }
   ],
   "source": [
    "for i in range(1,3):\n",
    "    for j in range(3,5):\n",
    "        print(i*j)                   #loop 속 loop 이용하기"
   ]
  },
  {
   "cell_type": "code",
   "execution_count": 40,
   "metadata": {},
   "outputs": [
    {
     "name": "stdout",
     "output_type": "stream",
     "text": [
      "4\n",
      "8\n"
     ]
    }
   ],
   "source": [
    "for i in range(1,3):\n",
    "    for j in range(3,5):\n",
    "        if j>=4:\n",
    "             print(i*j)           #for, if 사용할 때는 항상 indent 조심!!!"
   ]
  }
 ],
 "metadata": {
  "kernelspec": {
   "display_name": "Python 3",
   "language": "python",
   "name": "python3"
  },
  "language_info": {
   "codemirror_mode": {
    "name": "ipython",
    "version": 3
   },
   "file_extension": ".py",
   "mimetype": "text/x-python",
   "name": "python",
   "nbconvert_exporter": "python",
   "pygments_lexer": "ipython3",
   "version": "3.7.3"
  }
 },
 "nbformat": 4,
 "nbformat_minor": 2
}
